# Try your first Python output. Click here and press Shift + Enter to execute the cell
print("Hello, Python")

'Hello, Python!'
# Print an integer
a=2
print(a)

2
